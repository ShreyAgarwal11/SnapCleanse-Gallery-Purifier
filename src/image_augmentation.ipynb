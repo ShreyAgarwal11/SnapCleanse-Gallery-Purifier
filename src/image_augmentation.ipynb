{
  "nbformat": 4,
  "nbformat_minor": 0,
  "metadata": {
    "colab": {
      "provenance": []
    },
    "kernelspec": {
      "name": "python3",
      "display_name": "Python 3"
    },
    "language_info": {
      "name": "python"
    }
  },
  "cells": [
    {
      "cell_type": "code",
      "source": [
        "pip install Pillow"
      ],
      "metadata": {
        "id": "sy4Cl5oDvcI7",
        "colab": {
          "base_uri": "https://localhost:8080/"
        },
        "outputId": "f673dfb5-f7ba-4786-dbc0-816e1566962a"
      },
      "execution_count": null,
      "outputs": [
        {
          "output_type": "stream",
          "name": "stdout",
          "text": [
            "Requirement already satisfied: Pillow in /usr/local/lib/python3.10/dist-packages (9.4.0)\n"
          ]
        }
      ]
    },
    {
      "cell_type": "code",
      "source": [
        "# delete files in a directory\n",
        "directory_path = \"/content/dataset_augmented/food\"\n",
        "for item in os.listdir(directory_path):\n",
        "        item_path = os.path.join(directory_path, item)\n",
        "        if os.path.isfile(item_path):\n",
        "            os.remove(item_path)  # Remove the file\n",
        "            print(f\"Removed file: {item_path}\")\n",
        "        else:\n",
        "            print(f\"Skipping directory: {item_path}\")"
      ],
      "metadata": {
        "id": "28pQBkyEBT9z"
      },
      "execution_count": null,
      "outputs": []
    },
    {
      "cell_type": "code",
      "source": [
        "# number of itmes in a directory\n",
        "src =  \"/content/dataset/humans\"\n",
        "all_items = os.listdir(src)\n",
        "len([item for item in all_items if os.path.isfile(os.path.join(src, item))])"
      ],
      "metadata": {
        "colab": {
          "base_uri": "https://localhost:8080/"
        },
        "id": "DVMWgActyp_N",
        "outputId": "746c30ac-6b3d-4707-b6d6-0a4148217565"
      },
      "execution_count": null,
      "outputs": [
        {
          "output_type": "execute_result",
          "data": {
            "text/plain": [
              "5000"
            ]
          },
          "metadata": {},
          "execution_count": 216
        }
      ]
    },
    {
      "cell_type": "code",
      "source": [
        "# transfer a set number of fiels from one directrory to another\n",
        "\n",
        "files_transferred = 0\n",
        "import shutil\n",
        "src = \"/content/Fast Food Classification V2/Train/Hot Dog\"\n",
        "dst = \"/content/dataset/food\"\n",
        "for file in os.listdir(src):\n",
        "        if files_transferred < 1000:\n",
        "            source_file_path = os.path.join(src, file)\n",
        "            destination_file_path = os.path.join(dst, file)\n",
        "\n",
        "            # Ensure we're only transferring files (not directories)\n",
        "            if os.path.isfile(source_file_path):\n",
        "                shutil.move(source_file_path, destination_file_path)\n",
        "                print(f\"Transferred: {file}\")\n",
        "                files_transferred += 1\n",
        "        else:\n",
        "            break  # Stop transferring if we've reached the specified number of files\n",
        "\n",
        "print(\"Transferred\")\n"
      ],
      "metadata": {
        "id": "qZrCVmEKuPmg"
      },
      "execution_count": null,
      "outputs": []
    },
    {
      "cell_type": "markdown",
      "source": [
        "### Augmenting dataset"
      ],
      "metadata": {
        "id": "NPNY-iZStQ3o"
      }
    },
    {
      "cell_type": "code",
      "source": [
        "import random\n",
        "from PIL import Image, ImageFilter\n",
        "import numpy as np\n",
        "import pandas as pd\n",
        "import matplotlib.pyplot as plt\n",
        "import os\n",
        "import cv2\n",
        "import albumentations as A\n",
        "import random\n",
        "import torch"
      ],
      "metadata": {
        "id": "enc43Rq48UOs"
      },
      "execution_count": null,
      "outputs": []
    },
    {
      "cell_type": "code",
      "source": [
        "def augment(input_diretory_path):\n",
        "\n",
        "  def pixelate(input_image_path, pixel_size=5):\n",
        "    with Image.open(input_image_path) as image:\n",
        "        # Calculate the size of the pixelated image, reducing its resolution\n",
        "        small_image = image.resize(\n",
        "            (image.width // pixel_size, image.height // pixel_size),\n",
        "            resample=Image.BILINEAR\n",
        "        )\n",
        "\n",
        "        # Scale it back to the original size\n",
        "        result_image = small_image.resize(\n",
        "            image.size,\n",
        "            Image.NEAREST\n",
        "        )\n",
        "        path_without_extension, _ = os.path.splitext(input_image_path)\n",
        "        output_image_path = path_without_extension + \"_pixelated.jpg\"\n",
        "        # Save the pixelated image\n",
        "        result_image.save(output_image_path)\n",
        "\n",
        "  def add_grain(input_image_path, grain_level=5):\n",
        "    # Open the image\n",
        "    with Image.open(input_image_path) as image:\n",
        "        # Convert the image into a numpy array\n",
        "        image_array = np.array(image)\n",
        "\n",
        "        # Generate noise array, scaled by the grain level\n",
        "        noise = np.random.randint(-grain_level, grain_level, image_array.shape, dtype='int16')\n",
        "\n",
        "        # Add noise to the image array, ensuring values stay in the [0, 255] range\n",
        "        noisy_image_array = image_array.astype('int16') + noise\n",
        "        noisy_image_array = np.clip(noisy_image_array, 0, 255)\n",
        "\n",
        "        # Convert the noisy image array back into an image\n",
        "        noisy_image = Image.fromarray(noisy_image_array.astype('uint8'))\n",
        "        path_without_extension, _ = os.path.splitext(input_image_path)\n",
        "        output_image_path = path_without_extension + \"_grainy.jpg\"\n",
        "        # Save the grainy image\n",
        "        noisy_image.save(output_image_path)\n",
        "\n",
        "  def blur_image(input_image_path, blur_radius=5):\n",
        "    with Image.open(input_image_path) as image:\n",
        "        # Apply the blur filter with the specified blur radius\n",
        "        blurred_image = image.filter(ImageFilter.GaussianBlur(blur_radius))\n",
        "\n",
        "        path_without_extension, _ = os.path.splitext(input_image_path)\n",
        "        output_image_path = path_without_extension + \"_blurred.jpg\"\n",
        "\n",
        "        # Save the blurred image\n",
        "        blurred_image.save(output_image_path)\n",
        "\n",
        "  def motion_blur(image_path, intensity=10, angle=30):\n",
        "    image = cv2.imread(image_path)\n",
        "    # Generating the motion blur kernel\n",
        "    kernel_size = intensity\n",
        "    kernel = np.zeros((kernel_size, kernel_size))\n",
        "    kernel[int((kernel_size - 1)/2), :] = np.ones(kernel_size)\n",
        "    kernel = cv2.warpAffine(kernel, cv2.getRotationMatrix2D((kernel_size / 2 - 0.5, kernel_size / 2 - 0.5), angle, 1.0), (kernel_size, kernel_size))\n",
        "    kernel = kernel / kernel_size\n",
        "\n",
        "    # Applying the kernel to the input image\n",
        "    blurred_image = cv2.filter2D(image, -1, kernel)\n",
        "\n",
        "    return blurred_image\n",
        "\n",
        "    # New Step: Define output directory\n",
        "    output_directory = '/content/'\n",
        "\n",
        "    # Example usage with BMP images and saving to a separate directory\n",
        "    image_path = '/content/drive/MyDrive/Classes/566/Project/rider-10.jpg'\n",
        "    blurred_image = apply_motion_blur(image_path, intensity=10, angle=30)\n",
        "    path_without_extension, _ = os.path.splitext(input_image_path)\n",
        "    output_image_path = path_without_extension + \"_motion_blurred.jpg\"\n",
        "    cv2.imwrite(output_image_path, blurred_image)  # Save the blurred image in the specified output directory\n",
        "\n",
        "\n",
        "  def lens_flare(image_path):\n",
        "    def seed_everything(seed):\n",
        "        random.seed(seed)\n",
        "        os.environ['PYTHONHASHSEED'] = str(seed)\n",
        "        np.random.seed(seed)\n",
        "        torch.manual_seed(seed)\n",
        "        torch.cuda.manual_seed(seed)\n",
        "        torch.backends.cudnn.deterministic = True\n",
        "        torch.backends.cudnn.benchmark = True\n",
        "\n",
        "    def visualize(image):\n",
        "        plt.figure(figsize=(10, 10))\n",
        "        plt.axis('off')\n",
        "        plt.imshow(image)\n",
        "\n",
        "    def visualize_multiple(nrows, ncols, img, transform):\n",
        "        fig, axes = plt.subplots(nrows,ncols)\n",
        "        fig.set_figheight(15)\n",
        "        fig.set_figwidth(15)\n",
        "        num_iter = 0\n",
        "        for row in range(nrows):\n",
        "            for col in range(ncols):\n",
        "                augmented_img = transform[num_iter](image=img)['image']\n",
        "                axes[row,col].imshow(augmented_img)\n",
        "                axes[row,col].grid(False)\n",
        "                axes[row,col].set_xticks([])\n",
        "                axes[row,col].set_yticks([])\n",
        "                num_iter += 1\n",
        "        return fig, axes\n",
        "\n",
        "    img = cv2.imread(image_path)\n",
        "    img = cv2.cvtColor(img, cv2.COLOR_BGR2RGB)\n",
        "\n",
        "    transform = [A.RandomSunFlare(flare_roi=(0, 0, 1, 0.5),\n",
        "                                  angle_lower=0, angle_upper=1,\n",
        "                                  num_flare_circles_lower=6,\n",
        "                                  num_flare_circles_upper=10,\n",
        "                                  src_radius=400, src_color=(255, 255, 255),\n",
        "                                  always_apply=True) for _ in range(9)]\n",
        "    path_without_extension, _ = os.path.splitext(input_image_path)\n",
        "    output_image_path = path_without_extension + \"_motion_blurred.jpg\"\n",
        "\n",
        "    # Apply the first transformation in the list to the image\n",
        "    augmented_img = transform[random.randint(0, len(transform))-1](image=img)['image']\n",
        "\n",
        "    # Save the transformed image as a .jpg file\n",
        "    cv2.imwrite(output_image_path, cv2.cvtColor(augmented_img, cv2.COLOR_RGB2BGR))\n",
        "\n",
        "\n",
        "  num_of_files = 0\n",
        "  num_of_files_limit = 200\n",
        "  for filename in os.listdir(input_diretory_path):\n",
        "    if(num_of_files < num_of_files_limit):\n",
        "      image_path = os.path.join(input_images_path, filename)\n",
        "      pixelate(input_image_path, pixel_size=5)\n",
        "      add_grain(input_image_path, grain_level=30)\n",
        "      blur_image(input_image_path, blur_radius=2)\n",
        "      motion_blur(input_image_path)\n",
        "      lens_flare(input_image_path)\n",
        "      num_of_files+=1\n"
      ],
      "metadata": {
        "id": "pjco6uYXcifP"
      },
      "execution_count": null,
      "outputs": []
    },
    {
      "cell_type": "code",
      "source": [
        "augment(\"/content/dataset_augmented/food\")"
      ],
      "metadata": {
        "id": "7xu-HSbuFgGF"
      },
      "execution_count": null,
      "outputs": []
    },
    {
      "cell_type": "code",
      "source": [
        "!cp -r '/content/dataset/' '/content/drive/MyDrive/'"
      ],
      "metadata": {
        "id": "Us6Sx_oJH4gQ"
      },
      "execution_count": null,
      "outputs": []
    }
  ]
}